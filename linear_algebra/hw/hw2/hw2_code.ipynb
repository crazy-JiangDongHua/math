{
 "cells": [
  {
   "cell_type": "markdown",
   "metadata": {},
   "source": [
    "PS：因为无法找到作业来源，所以只能按着ppt自己从头实现。如果有热心的小伙伴找到了并且想要更新这个项目，可以联系我的邮箱。"
   ]
  },
  {
   "cell_type": "markdown",
   "metadata": {},
   "source": [
    "# 问题描述"
   ]
  },
  {
   "cell_type": "markdown",
   "metadata": {},
   "source": [
    "希尔密码是通过矩阵乘法来进行加密的方法，我们需要解决三个问题：\n",
    "\n",
    "1. 给出key和明文，来求得密文，主要步骤如下：\n",
    "    * 将明文转为矩阵形式\n",
    "    * 求解密文矩阵\n",
    "    * 将密文从矩阵形式转为文字形式\n",
    "2. 给出密文和key，来求得明文，主要步骤如下：\n",
    "    * 将密文转化为矩阵形式\n",
    "    * 求解key的模运算下的逆矩阵\n",
    "    * 求解明文矩阵\n",
    "    * 将明文从矩阵形式转化为文字形式\n",
    "3. 给出明文和密文，来求得key，主要步骤如下：\n",
    "    * 将明文和密文转化为矩阵形式\n",
    "    * 求解明文的模运算下的逆矩阵\n",
    "    * 求解key矩阵\n",
    "\n",
    "那么不难看出，我们需要实现的主要是三个函数：\n",
    "\n",
    "1. 将文本转化为矩阵\n",
    "2. 将矩阵转化为文本\n",
    "3. 求矩阵的模逆阵\n",
    "\n"
   ]
  },
  {
   "cell_type": "code",
   "execution_count": 1,
   "metadata": {},
   "outputs": [],
   "source": [
    "# 建立字符集合对照表\n",
    "table = {'A':0, 'B':1, 'C':2, 'D':3, 'E':4, 'F':5, 'G':6, 'H':7, 'I':8, 'J':9, \n",
    "'K':10, 'L':11, 'M':12, 'N':13, 'O':14, 'P':15, 'Q':16, 'R':17, 'S':18, 'T':19, \n",
    "'U':20, 'V':21, 'W':22, 'X':23, 'Y':24, 'Z':25, '_':26, '.':27, ',':28, '?':29,\n",
    "'!':30}\n",
    "\n",
    "inv_table = {v: k for k, v in table.items()}\n"
   ]
  },
  {
   "cell_type": "code",
   "execution_count": 2,
   "metadata": {},
   "outputs": [
    {
     "data": {
      "text/plain": [
       "array([[19, 18, 18, 13, 15,  4],\n",
       "       [ 7, 26, 26, 26, 15, 27],\n",
       "       [ 8,  8,  0,  0, 11, 27]])"
      ]
     },
     "execution_count": 2,
     "metadata": {},
     "output_type": "execute_result"
    }
   ],
   "source": [
    "import numpy as np\n",
    "\n",
    "# 将文本转化为矩阵\n",
    "def text2matrix(text):\n",
    "    '''\n",
    "    input\n",
    "    text: 文本\n",
    "    output\n",
    "    matrix: 文本对应的矩阵\n",
    "    '''\n",
    "    # if n=3\n",
    "    l = len(text)\n",
    "    col = l // 3\n",
    "    mod = l % 3\n",
    "    m = np.zeros((3, col),'int')\n",
    "    for i in range(3):\n",
    "        for j in range(col):\n",
    "            m[i,j] = table[text[i+j*3]]\n",
    "    if mod>0:\n",
    "        v = np.zeros((3,), 'int')\n",
    "        for i in range(mod):\n",
    "            v[i] = table[text[col*3+i]]\n",
    "        # 补上末尾重复元素\n",
    "        for i in range(mod, 3):\n",
    "            v[i] = table[text[col*3+mod-1]]\n",
    "        m = np.column_stack((m,v))\n",
    "    return m\n",
    "    \n",
    "# 测试\n",
    "# 输入 THIS_IS_AN_APPLE.\n",
    "# 输出\n",
    "'''\n",
    "[\n",
    "    19 18 18 13 15 4\n",
    "    7  26 26 26 15 27\n",
    "    8  8  0  0  11 27\n",
    "]\n",
    "'''\n",
    "    \n",
    "text2matrix(\"THIS_IS_AN_APPLE.\")\n",
    "\n"
   ]
  },
  {
   "cell_type": "code",
   "execution_count": 3,
   "metadata": {},
   "outputs": [
    {
     "data": {
      "text/plain": [
       "'THIS_IS_AN_APPLE.'"
      ]
     },
     "execution_count": 3,
     "metadata": {},
     "output_type": "execute_result"
    }
   ],
   "source": [
    "# 将矩阵转化为文本\n",
    "def matrix2text(m):\n",
    "    '''\n",
    "    input\n",
    "    matrix: 文本对应的矩阵\n",
    "    output\n",
    "    text: 文本\n",
    "    '''\n",
    "    # if n=3\n",
    "    res = \"\"\n",
    "    for j in range(m.shape[1]):\n",
    "        for i in range(m.shape[0]):\n",
    "            res += inv_table[m[i,j]]\n",
    "    # 去除补上的重复元素\n",
    "    while res[-1] == res[-2]:\n",
    "        res = res[:-1]\n",
    "    \n",
    "    return res\n",
    "\n",
    "\n",
    "# 测试\n",
    "# 输入\n",
    "'''\n",
    "[\n",
    "    19 18 18 13 15 4\n",
    "    7  26 26 26 15 27\n",
    "    8  8  0  0  11 27\n",
    "]\n",
    "'''\n",
    "# 输出 THIS_IS_AN_APPLE.\n",
    "\n",
    "matrix2text(np.array([[19, 18, 18, 13, 15, 4], [7,26,26,26,15,27], [8,8,0,0,11,27]]))\n"
   ]
  },
  {
   "cell_type": "code",
   "execution_count": 4,
   "metadata": {},
   "outputs": [
    {
     "data": {
      "text/plain": [
       "array([[16,  0, 24],\n",
       "       [28,  4, 21],\n",
       "       [27, 18, 12]], dtype=int32)"
      ]
     },
     "execution_count": 4,
     "metadata": {},
     "output_type": "execute_result"
    }
   ],
   "source": [
    "#求解矩阵的模逆\n",
    "\n",
    "def mod_inverse(m, S):\n",
    "    '''\n",
    "    input\n",
    "    S: 字母表的基数\n",
    "    matrix: 待求逆的矩阵\n",
    "    output\n",
    "    inverse: 矩阵的模逆\n",
    "    '''\n",
    "    # if n=3 因为A·A*(伴随矩阵)=|A|E \n",
    "    # 所以inv(a)(mod |S|)= ((1/|A|)(mod |S|) * A)(mod |S|)\n",
    "    d = round(np.linalg.det(m))\n",
    "    \n",
    "\n",
    "    # 利用简单试错法求解 1/d(mod|S|)，其中|S|是字符集的个数，为31\n",
    "    inv_d = 0\n",
    "    for i in range(1, S):\n",
    "        if d*i%S == 1:\n",
    "            inv_d = i\n",
    "            break\n",
    "\n",
    "    adj = np.zeros(m.shape, 'int')\n",
    "    # 求伴随矩阵\n",
    "    for i in range(m.shape[0]):\n",
    "        for j in range(m.shape[1]):\n",
    "            row = list(range(0, i)) + list(range(i+1, m.shape[0]))\n",
    "            col = list(range(0, j)) + list(range(j+1, m.shape[1]))\n",
    "            adj[j, i] = ((-1)**(i+j)) * round(np.linalg.det(m[row][:,col]))\n",
    "    \n",
    "    return inv_d * adj % S\n",
    "\n",
    "# 测试\n",
    "# 输入\n",
    "'''\n",
    "[\n",
    "    4, 9, -2\n",
    "    3, 5, 7\n",
    "    1, -6, 11\n",
    "]\n",
    "'''\n",
    "# 输出\n",
    "'''\n",
    "[\n",
    "    16, 0, 24\n",
    "    28, 4, 21\n",
    "    27, 18, 12\n",
    "]\n",
    "'''\n",
    "\n",
    "mod_inverse(np.array([[4, 9, -2], [3, 5, 7], [1, -6, 11]]), 29)\n"
   ]
  },
  {
   "cell_type": "markdown",
   "metadata": {},
   "source": [
    "到这里就有可能就有小伙伴会问了，如果矩阵不可逆咋办呢？那是不行滴，key必须设计成可逆的，而且|S|最好是质数，感兴趣的小伙伴可以看看这篇[文章](https://ccjou.wordpress.com/2013/09/10/%E5%B8%8C%E7%88%BE%E5%AF%86%E7%A2%BC/?fbclid=IwAR175SK34eqCXJfhOsDnlk_0cEQ4bLSDG1BSSsd36JQSMaq436LxlpJoIok)，里面有解释“如何利用模运算判定矩阵可逆性”和“有限体和模运算”\n",
    "\n",
    "不想深入了解的小伙伴也不用担心，老师给的数据都是可逆的，不用担心~"
   ]
  },
  {
   "cell_type": "code",
   "execution_count": 5,
   "metadata": {},
   "outputs": [],
   "source": [
    "# 测试\n",
    "# 明文：IS_THAT_W\n",
    "# 密文：C!QER,YNR\n",
    "# key\n",
    "'''\n",
    "[\n",
    "    25, 8, 25,\n",
    "    9,  9, 16,\n",
    "    28, 21,18\n",
    "]\n",
    "'''\n",
    "\n",
    "plain = \"IS_THAT_W\"\n",
    "cipher = \"C!QER,YNR\"\n",
    "key = np.array([[25, 8, 25],\n",
    "                [9,  9, 16],\n",
    "                [28, 21, 18]])\n"
   ]
  },
  {
   "cell_type": "code",
   "execution_count": 6,
   "metadata": {},
   "outputs": [
    {
     "name": "stdout",
     "output_type": "stream",
     "text": [
      "cipher is C!QER,YNR\n"
     ]
    }
   ],
   "source": [
    "# problem 1 已知key和明文文，求密文\n",
    "print(\"cipher\", \"is\", matrix2text(np.matmul(key, text2matrix(plain))%31))"
   ]
  },
  {
   "cell_type": "code",
   "execution_count": 7,
   "metadata": {},
   "outputs": [
    {
     "name": "stdout",
     "output_type": "stream",
     "text": [
      "plain is IS_THAT_W\n"
     ]
    }
   ],
   "source": [
    "# problem 2 已知key和密文，求明文\n",
    "\n",
    "print(\"plain\", \"is\", matrix2text(np.matmul(mod_inverse(key, 31), text2matrix(cipher)) % 31))\n"
   ]
  },
  {
   "cell_type": "code",
   "execution_count": 8,
   "metadata": {},
   "outputs": [
    {
     "data": {
      "text/plain": [
       "array([[25,  8, 25],\n",
       "       [ 9,  9, 16],\n",
       "       [28, 21, 18]], dtype=int32)"
      ]
     },
     "execution_count": 8,
     "metadata": {},
     "output_type": "execute_result"
    }
   ],
   "source": [
    "# problem 3 已知明文和密文，求key\n",
    "np.matmul(text2matrix(cipher), mod_inverse(text2matrix(plain), 31)) % 31\n"
   ]
  }
 ],
 "metadata": {
  "interpreter": {
   "hash": "49e3b2259e78df9cfdab8a0147e70af135d67b84d369900a8e7b867539ba6049"
  },
  "kernelspec": {
   "display_name": "Python 3.7.4 64-bit ('base': conda)",
   "language": "python",
   "name": "python3"
  },
  "language_info": {
   "codemirror_mode": {
    "name": "ipython",
    "version": 3
   },
   "file_extension": ".py",
   "mimetype": "text/x-python",
   "name": "python",
   "nbconvert_exporter": "python",
   "pygments_lexer": "ipython3",
   "version": "3.7.4"
  },
  "orig_nbformat": 4
 },
 "nbformat": 4,
 "nbformat_minor": 2
}
