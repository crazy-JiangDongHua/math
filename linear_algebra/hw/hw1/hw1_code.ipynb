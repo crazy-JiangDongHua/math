{
 "cells": [
  {
   "cell_type": "markdown",
   "metadata": {},
   "source": [
    "PS：因为无法找到作业来源，所以只能按着ppt自己从头实现。如果有热心的小伙伴找到了并且想要更新这个项目，可以联系我的邮箱。"
   ]
  },
  {
   "cell_type": "markdown",
   "metadata": {},
   "source": [
    "## Problem 1"
   ]
  },
  {
   "cell_type": "markdown",
   "metadata": {},
   "source": [
    "检测有向图是否有环\n",
    "\n",
    "问题1给出第一种解法:\n",
    "\n",
    "* 图结构由邻接表形式实现，每一行起点为-1，终点为1，其余为0 \n",
    "* 运行步骤为:\n",
    "    1. 从第一条边开始遍历\n",
    "    2. 对之后每一条能够与之首尾相连的的边（如1->2, 2->3），把其对应的两行相加\n",
    "    3. 如果得到的边对应的行全为零，则说明图结构带有环，否则把新的边放到邻接表末尾\n",
    "    4. 跳转到1，直到所有边都被遍历\n",
    "    5. 遍历完毕，说明图结构没有环\n",
    "\n",
    "原理也非常好理解，在只能加操作的限定下，如果有边（邻接表的行）是线性相关的，即相加等于零，则说明正好相加了一个环的所有边。"
   ]
  },
  {
   "cell_type": "code",
   "execution_count": 1,
   "metadata": {},
   "outputs": [],
   "source": [
    "# 导入相关库\n",
    "import numpy as np"
   ]
  },
  {
   "cell_type": "code",
   "execution_count": 2,
   "metadata": {},
   "outputs": [],
   "source": [
    "# 实现邻接表\n",
    "def gen_graph(n):\n",
    "    '''\n",
    "    input\n",
    "    n: 节点数量\n",
    "    output\n",
    "    graph: 有向图\n",
    "    '''\n",
    "    return np.zeros(n).reshape((1,n))\n",
    "\n",
    "\n",
    "def add_edge(start, end, graph):\n",
    "    '''\n",
    "    input:\n",
    "    start: 起点编号\n",
    "    end: 终点编号\n",
    "    graph: 有向图\n",
    "    output\n",
    "    graph: 新的有向图\n",
    "    '''\n",
    "    new_edge = np.zeros(graph.shape[1])\n",
    "    new_edge[start] = -1\n",
    "    new_edge[end] = 1\n",
    "    return np.row_stack((graph, new_edge))\n",
    "    \n",
    "\n",
    "    \n"
   ]
  },
  {
   "cell_type": "code",
   "execution_count": 3,
   "metadata": {},
   "outputs": [],
   "source": [
    "# 判断有向图是否有环\n",
    "def has_cycle(graph):\n",
    "    '''\n",
    "    input\n",
    "    graph: 有向图结构\n",
    "    output\n",
    "    res：是否有环\n",
    "    '''\n",
    "    index = 1\n",
    "    rows= graph.shape[0]\n",
    "    while index < rows:\n",
    "        end = graph[index, :].argmax()\n",
    "        for next in range(index+1, rows):\n",
    "            if graph[next, end] == -1:\n",
    "                # 首尾相连\n",
    "                new_edge = graph[index, :] + graph[next, :]\n",
    "                if(np.sum(new_edge) == 0):\n",
    "                    return True\n",
    "                else:\n",
    "                    graph = np.row_stack((graph, new_edge))\n",
    "        index = index + 1\n",
    "        rows = graph.shape[0]\n",
    "    return False\n"
   ]
  },
  {
   "cell_type": "code",
   "execution_count": 4,
   "metadata": {},
   "outputs": [
    {
     "name": "stdout",
     "output_type": "stream",
     "text": [
      "yes\n"
     ]
    }
   ],
   "source": [
    "# demo\n",
    "\n",
    "# a directed graph with 2->3 4->1 3->5 5->2 0->1\n",
    "graph = gen_graph(6)\n",
    "graph = add_edge(2, 3, graph)\n",
    "graph = add_edge(4, 1, graph)\n",
    "graph = add_edge(3, 5, graph)\n",
    "graph = add_edge(5, 2, graph)\n",
    "graph = add_edge(0, 1, graph)\n",
    "\n",
    "# 判断\n",
    "if has_cycle(graph):\n",
    "    print(\"yes\")\n",
    "else :\n",
    "    print(\"no\")\n"
   ]
  },
  {
   "cell_type": "markdown",
   "metadata": {},
   "source": [
    "## Problem 2"
   ]
  },
  {
   "cell_type": "markdown",
   "metadata": {},
   "source": [
    "检测有向图是否有环\n",
    "\n",
    "问题2给出第二种解法:\n",
    "\n",
    "* 图结构由邻接矩阵形式实现\n",
    "* 运行步骤为:\n",
    "    1. 令i=1，求临界矩阵的i次幂\n",
    "    2. 如果得到的矩阵的对角线上有一个元素大于等于1，说明存在环\n",
    "    4. 否则令i=i+1, 直到i>n\n",
    "    5. 结束，图没有环\n",
    "\n",
    "原理也非常好理解，邻接矩阵的i次幂（s,t）位置上的元素表示节点s到节点t长度为i的路径的个数，如果发现对角线元素（s,s）值不为0，那么说明节点i可以通过长度为i的环路回到节点i\n"
   ]
  },
  {
   "cell_type": "code",
   "execution_count": 5,
   "metadata": {},
   "outputs": [],
   "source": [
    "# 生成图结构\n",
    "def gen_graph(n):\n",
    "    '''\n",
    "    input\n",
    "    n: 节点数量\n",
    "    output\n",
    "    graph: 有向图\n",
    "    '''\n",
    "    return np.zeros((n,n))\n",
    "\n",
    "\n",
    "def add_edge(start, end, graph):\n",
    "    '''\n",
    "    input:\n",
    "    start: 起点编号\n",
    "    end: 终点编号\n",
    "    graph: 有向图\n",
    "    '''\n",
    "    graph[start, end] = 1\n"
   ]
  },
  {
   "cell_type": "code",
   "execution_count": 6,
   "metadata": {},
   "outputs": [],
   "source": [
    "# 判断有向图是否有环\n",
    "def has_cycle(graph):\n",
    "    '''\n",
    "    input\n",
    "    graph: 有向图结构\n",
    "    output\n",
    "    res：是否有环\n",
    "    '''\n",
    "    m = graph.copy()\n",
    "    for i in range(graph.shape[0]):\n",
    "        m = np.matmul(m, graph)\n",
    "        for j in range(graph.shape[0]):\n",
    "            if m[j,j] > 0:\n",
    "                return True\n",
    "    return False\n"
   ]
  },
  {
   "cell_type": "code",
   "execution_count": 7,
   "metadata": {},
   "outputs": [
    {
     "name": "stdout",
     "output_type": "stream",
     "text": [
      "yes\n"
     ]
    }
   ],
   "source": [
    "# demo\n",
    "\n",
    "# a directed graph with 2->3 4->1 3->5 5->2 0->1\n",
    "graph = gen_graph(6)\n",
    "add_edge(2, 3, graph)\n",
    "add_edge(4, 1, graph)\n",
    "add_edge(3, 5, graph)\n",
    "add_edge(5, 2, graph)\n",
    "add_edge(0, 1, graph)\n",
    "\n",
    "# 判断\n",
    "if has_cycle(graph):\n",
    "    print(\"yes\")\n",
    "else:\n",
    "    print(\"no\")\n"
   ]
  }
 ],
 "metadata": {
  "interpreter": {
   "hash": "49e3b2259e78df9cfdab8a0147e70af135d67b84d369900a8e7b867539ba6049"
  },
  "kernelspec": {
   "display_name": "Python 3.7.4 64-bit ('base': conda)",
   "name": "python3"
  },
  "language_info": {
   "codemirror_mode": {
    "name": "ipython",
    "version": 3
   },
   "file_extension": ".py",
   "mimetype": "text/x-python",
   "name": "python",
   "nbconvert_exporter": "python",
   "pygments_lexer": "ipython3",
   "version": "3.7.4"
  },
  "orig_nbformat": 4
 },
 "nbformat": 4,
 "nbformat_minor": 2
}
